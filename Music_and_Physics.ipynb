{
 "cells": [
  {
   "cell_type": "markdown",
   "metadata": {},
   "source": [
    "# Music and Physics"
   ]
  },
  {
   "cell_type": "code",
   "execution_count": 108,
   "metadata": {
    "collapsed": true
   },
   "outputs": [],
   "source": [
    "from collections import OrderedDict\n",
    "\n",
    "%matplotlib inline\n",
    "import pandas as pd\n",
    "import matplotlib.pyplot as plt\n",
    "import numpy as np"
   ]
  },
  {
   "cell_type": "markdown",
   "metadata": {
    "collapsed": true
   },
   "source": [
    "- This is the formula that can be used to calculate the frequencies of notes of an [\"equal-tempered\" scale](https://pages.mtu.edu/~suits/scales.html):\n",
    "    $$f_n = f_0*a^n$$\n",
    "where:\n",
    "    - *f<sub>0</sub>* = the frequency of one fixed note which must be defined. A common choice is setting the A above middle C (A<sub>4</sub>) at *f<sub>n</sub>* = 440 Hz.\n",
    "    - *n* = the number of half steps away from the fixed note you are. If you are at a higher note, *n* is positive. If you are on a lower note, *n* is negative.\n",
    "    - *f<sub>n</sub>* = the frequency of the note *n* half steps away.\n",
    "    - *a* = 2<sup>1/12</sup>, i.e. the twelth root of 2, the number which when multiplied by itself 12 times equals 2 (1.059463094359)"
   ]
  },
  {
   "cell_type": "markdown",
   "metadata": {},
   "source": [
    "- Let's define *f<sub>n</sub>* now."
   ]
  },
  {
   "cell_type": "code",
   "execution_count": 16,
   "metadata": {
    "collapsed": false
   },
   "outputs": [],
   "source": [
    "# Setting f_0 to 440.0, the base note, which is the A above middle C (A4)\n",
    "f_0 = 440.0\n",
    "\n",
    "# Setting the constant a\n",
    "a = 2**(1/12)\n",
    "\n",
    "def f(n):\n",
    "    return f_0*a**n"
   ]
  },
  {
   "cell_type": "markdown",
   "metadata": {},
   "source": [
    "## Scale\n",
    "- Scale is defined in the following order, each note a half-step higher than the last:\n",
    "    - C\n",
    "    - C#/Db\n",
    "    - D\n",
    "    - D#/Eb\n",
    "    - E\n",
    "    - F\n",
    "    - F#/Gb\n",
    "    - G\n",
    "    - G#/Ab\n",
    "    - A\n",
    "    - A#/Bb\n",
    "    - B\n",
    "- Notes:\n",
    "    - The \"#\" suffix refers to \"sharp\" notes\n",
    "    - The \"b\" suffix refers to \"flat\" notes\n",
    "    - Sharp notes are equivalent to flat notes for the note one half-step above, for example C# = Db"
   ]
  },
  {
   "cell_type": "markdown",
   "metadata": {},
   "source": [
    "- Let's define a scale as an ordered list of the half-step note names."
   ]
  },
  {
   "cell_type": "code",
   "execution_count": 55,
   "metadata": {
    "collapsed": false
   },
   "outputs": [
    {
     "name": "stdout",
     "output_type": "stream",
     "text": [
      "Number of half-step notes in a scale: 12\n"
     ]
    }
   ],
   "source": [
    "# The scale goes in the following order in terms of \"half-steps\"\n",
    "scale = [\"c\",\n",
    "         \"c#_db\",\n",
    "         \"d\",\n",
    "         \"d#_eb\",\n",
    "         \"e\",\n",
    "         \"f\",\n",
    "         \"f#_gb\",\n",
    "         \"g\",\n",
    "         \"g#_ab\",\n",
    "         \"a\",\n",
    "         \"a#_bb\",\n",
    "         \"b\"]\n",
    "print(\"Number of half-step notes in a scale: {}\".format(len(scale)))"
   ]
  },
  {
   "cell_type": "markdown",
   "metadata": {},
   "source": [
    "- There are thus 12 half-step notes in a scale"
   ]
  },
  {
   "cell_type": "markdown",
   "metadata": {},
   "source": [
    "- Since our base note is A4 (the 58th half-step from C0, i.e. there are 4 full scales + 10 half-notes till you get to A4), let's define all the notes and their frequencies from C0 all the way to B8."
   ]
  },
  {
   "cell_type": "code",
   "execution_count": 88,
   "metadata": {
    "collapsed": false
   },
   "outputs": [],
   "source": [
    "# We will first create an empty ordered dictionary\n",
    "full_scale = OrderedDict()\n",
    "\n",
    "# Now we iterate through 0 to 8, incrementing `n_halfstep`\n",
    "# each time by the length of the scale multiplied by the\n",
    "# number\n",
    "for i in range(9):\n",
    "\n",
    "    # `n_halfstep` will be initialized to 0 the first time\n",
    "    # through since `i` will be 0. In the next iteration,\n",
    "    # `n_halfstep` will be equal to 1*12, 12, and so on.\n",
    "    n_halfstep = len(scale)*i\n",
    "\n",
    "    # For each iteration, we will set the name of the note\n",
    "    # in our dictionary as the name of the note + the number\n",
    "    # of the iteration, e.g. \"c_0\", then \"c#_db_0\", and so\n",
    "    # on. The value of the note will be calculated using\n",
    "    # our function `f` (defined above) in terms of the\n",
    "    # number of half-steps we are away from A4 (simply\n",
    "    # subtract 57), whether negative or positive.\n",
    "    for note in scale:\n",
    "        full_scale[\"{}_{}\".format(note, i)] = f(n_halfstep - 57)\n",
    "        n_halfstep += 1"
   ]
  },
  {
   "cell_type": "code",
   "execution_count": 89,
   "metadata": {
    "collapsed": false
   },
   "outputs": [],
   "source": [
    "# Convert our ordered dictionary into a table for easy\n",
    "# viewing, etc.\n",
    "full_scale = pd.DataFrame(list(full_scale.items()), columns=[\"note\", \"frequency\"])"
   ]
  },
  {
   "cell_type": "code",
   "execution_count": 91,
   "metadata": {
    "collapsed": false
   },
   "outputs": [],
   "source": [
    "# Let's also put in a column that has the number of\n",
    "# scale (redundant since it's the last part of the\n",
    "# name of each note, but maybe useful later).\n",
    "full_scale[\"scale_number\"] = full_scale.note.apply(lambda x: int(x.split(\"_\")[-1]))"
   ]
  },
  {
   "cell_type": "markdown",
   "metadata": {},
   "source": [
    "- Now that we have our scale table, we can look at the first scale (0):"
   ]
  },
  {
   "cell_type": "code",
   "execution_count": 93,
   "metadata": {
    "collapsed": false
   },
   "outputs": [
    {
     "data": {
      "text/html": [
       "<div>\n",
       "<table border=\"1\" class=\"dataframe\">\n",
       "  <thead>\n",
       "    <tr style=\"text-align: right;\">\n",
       "      <th></th>\n",
       "      <th>note</th>\n",
       "      <th>frequency</th>\n",
       "      <th>scale_number</th>\n",
       "    </tr>\n",
       "  </thead>\n",
       "  <tbody>\n",
       "    <tr>\n",
       "      <th>0</th>\n",
       "      <td>c_0</td>\n",
       "      <td>16.351598</td>\n",
       "      <td>0</td>\n",
       "    </tr>\n",
       "    <tr>\n",
       "      <th>1</th>\n",
       "      <td>c#_db_0</td>\n",
       "      <td>17.323914</td>\n",
       "      <td>0</td>\n",
       "    </tr>\n",
       "    <tr>\n",
       "      <th>2</th>\n",
       "      <td>d_0</td>\n",
       "      <td>18.354048</td>\n",
       "      <td>0</td>\n",
       "    </tr>\n",
       "    <tr>\n",
       "      <th>3</th>\n",
       "      <td>d#_eb_0</td>\n",
       "      <td>19.445436</td>\n",
       "      <td>0</td>\n",
       "    </tr>\n",
       "    <tr>\n",
       "      <th>4</th>\n",
       "      <td>e_0</td>\n",
       "      <td>20.601722</td>\n",
       "      <td>0</td>\n",
       "    </tr>\n",
       "    <tr>\n",
       "      <th>5</th>\n",
       "      <td>f_0</td>\n",
       "      <td>21.826764</td>\n",
       "      <td>0</td>\n",
       "    </tr>\n",
       "    <tr>\n",
       "      <th>6</th>\n",
       "      <td>f#_gb_0</td>\n",
       "      <td>23.124651</td>\n",
       "      <td>0</td>\n",
       "    </tr>\n",
       "    <tr>\n",
       "      <th>7</th>\n",
       "      <td>g_0</td>\n",
       "      <td>24.499715</td>\n",
       "      <td>0</td>\n",
       "    </tr>\n",
       "    <tr>\n",
       "      <th>8</th>\n",
       "      <td>g#_ab_0</td>\n",
       "      <td>25.956544</td>\n",
       "      <td>0</td>\n",
       "    </tr>\n",
       "    <tr>\n",
       "      <th>9</th>\n",
       "      <td>a_0</td>\n",
       "      <td>27.500000</td>\n",
       "      <td>0</td>\n",
       "    </tr>\n",
       "    <tr>\n",
       "      <th>10</th>\n",
       "      <td>a#_bb_0</td>\n",
       "      <td>29.135235</td>\n",
       "      <td>0</td>\n",
       "    </tr>\n",
       "    <tr>\n",
       "      <th>11</th>\n",
       "      <td>b_0</td>\n",
       "      <td>30.867706</td>\n",
       "      <td>0</td>\n",
       "    </tr>\n",
       "  </tbody>\n",
       "</table>\n",
       "</div>"
      ],
      "text/plain": [
       "       note  frequency  scale_number\n",
       "0       c_0  16.351598             0\n",
       "1   c#_db_0  17.323914             0\n",
       "2       d_0  18.354048             0\n",
       "3   d#_eb_0  19.445436             0\n",
       "4       e_0  20.601722             0\n",
       "5       f_0  21.826764             0\n",
       "6   f#_gb_0  23.124651             0\n",
       "7       g_0  24.499715             0\n",
       "8   g#_ab_0  25.956544             0\n",
       "9       a_0  27.500000             0\n",
       "10  a#_bb_0  29.135235             0\n",
       "11      b_0  30.867706             0"
      ]
     },
     "execution_count": 93,
     "metadata": {},
     "output_type": "execute_result"
    }
   ],
   "source": [
    "full_scale[full_scale.scale_number == 0]"
   ]
  },
  {
   "cell_type": "markdown",
   "metadata": {},
   "source": [
    "- Let's look at the 4th scale, which should include our middle A (A4) set to 440 Hz:"
   ]
  },
  {
   "cell_type": "code",
   "execution_count": 95,
   "metadata": {
    "collapsed": false
   },
   "outputs": [
    {
     "data": {
      "text/html": [
       "<div>\n",
       "<table border=\"1\" class=\"dataframe\">\n",
       "  <thead>\n",
       "    <tr style=\"text-align: right;\">\n",
       "      <th></th>\n",
       "      <th>note</th>\n",
       "      <th>frequency</th>\n",
       "      <th>scale_number</th>\n",
       "    </tr>\n",
       "  </thead>\n",
       "  <tbody>\n",
       "    <tr>\n",
       "      <th>48</th>\n",
       "      <td>c_4</td>\n",
       "      <td>261.625565</td>\n",
       "      <td>4</td>\n",
       "    </tr>\n",
       "    <tr>\n",
       "      <th>49</th>\n",
       "      <td>c#_db_4</td>\n",
       "      <td>277.182631</td>\n",
       "      <td>4</td>\n",
       "    </tr>\n",
       "    <tr>\n",
       "      <th>50</th>\n",
       "      <td>d_4</td>\n",
       "      <td>293.664768</td>\n",
       "      <td>4</td>\n",
       "    </tr>\n",
       "    <tr>\n",
       "      <th>51</th>\n",
       "      <td>d#_eb_4</td>\n",
       "      <td>311.126984</td>\n",
       "      <td>4</td>\n",
       "    </tr>\n",
       "    <tr>\n",
       "      <th>52</th>\n",
       "      <td>e_4</td>\n",
       "      <td>329.627557</td>\n",
       "      <td>4</td>\n",
       "    </tr>\n",
       "    <tr>\n",
       "      <th>53</th>\n",
       "      <td>f_4</td>\n",
       "      <td>349.228231</td>\n",
       "      <td>4</td>\n",
       "    </tr>\n",
       "    <tr>\n",
       "      <th>54</th>\n",
       "      <td>f#_gb_4</td>\n",
       "      <td>369.994423</td>\n",
       "      <td>4</td>\n",
       "    </tr>\n",
       "    <tr>\n",
       "      <th>55</th>\n",
       "      <td>g_4</td>\n",
       "      <td>391.995436</td>\n",
       "      <td>4</td>\n",
       "    </tr>\n",
       "    <tr>\n",
       "      <th>56</th>\n",
       "      <td>g#_ab_4</td>\n",
       "      <td>415.304698</td>\n",
       "      <td>4</td>\n",
       "    </tr>\n",
       "    <tr>\n",
       "      <th>57</th>\n",
       "      <td>a_4</td>\n",
       "      <td>440.000000</td>\n",
       "      <td>4</td>\n",
       "    </tr>\n",
       "    <tr>\n",
       "      <th>58</th>\n",
       "      <td>a#_bb_4</td>\n",
       "      <td>466.163762</td>\n",
       "      <td>4</td>\n",
       "    </tr>\n",
       "    <tr>\n",
       "      <th>59</th>\n",
       "      <td>b_4</td>\n",
       "      <td>493.883301</td>\n",
       "      <td>4</td>\n",
       "    </tr>\n",
       "  </tbody>\n",
       "</table>\n",
       "</div>"
      ],
      "text/plain": [
       "       note   frequency  scale_number\n",
       "48      c_4  261.625565             4\n",
       "49  c#_db_4  277.182631             4\n",
       "50      d_4  293.664768             4\n",
       "51  d#_eb_4  311.126984             4\n",
       "52      e_4  329.627557             4\n",
       "53      f_4  349.228231             4\n",
       "54  f#_gb_4  369.994423             4\n",
       "55      g_4  391.995436             4\n",
       "56  g#_ab_4  415.304698             4\n",
       "57      a_4  440.000000             4\n",
       "58  a#_bb_4  466.163762             4\n",
       "59      b_4  493.883301             4"
      ]
     },
     "execution_count": 95,
     "metadata": {},
     "output_type": "execute_result"
    }
   ],
   "source": [
    "full_scale[full_scale.scale_number == 4]"
   ]
  },
  {
   "cell_type": "markdown",
   "metadata": {},
   "source": [
    "- Awesome! So, now we have all of the notes and their frequencies in Hz."
   ]
  },
  {
   "cell_type": "markdown",
   "metadata": {},
   "source": [
    "- Let's think about how the frequencies look in terms of plotting."
   ]
  }
 ],
 "metadata": {
  "kernelspec": {
   "display_name": "Python 3",
   "language": "python",
   "name": "python3"
  },
  "language_info": {
   "codemirror_mode": {
    "name": "ipython",
    "version": 3
   },
   "file_extension": ".py",
   "mimetype": "text/x-python",
   "name": "python",
   "nbconvert_exporter": "python",
   "pygments_lexer": "ipython3",
   "version": "3.4.5"
  }
 },
 "nbformat": 4,
 "nbformat_minor": 2
}
